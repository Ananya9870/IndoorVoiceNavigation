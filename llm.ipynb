{
 "cells": [
  {
   "cell_type": "code",
   "execution_count": 2,
   "metadata": {},
   "outputs": [
    {
     "name": "stdout",
     "output_type": "stream",
     "text": [
      "Requirement already satisfied: SpeechRecognition in /home/ghost/Documents/CODE/.venv/lib64/python3.12/site-packages (from -r requirements.txt (line 1)) (3.10.4)\n",
      "Requirement already satisfied: pyttsx3 in /home/ghost/Documents/CODE/.venv/lib64/python3.12/site-packages (from -r requirements.txt (line 2)) (2.90)\n",
      "Collecting pyaudio (from -r requirements.txt (line 3))\n",
      "  Using cached PyAudio-0.2.14-cp312-cp312-linux_x86_64.whl\n",
      "Requirement already satisfied: setuptools in /home/ghost/Documents/CODE/.venv/lib64/python3.12/site-packages (from -r requirements.txt (line 4)) (71.1.0)\n",
      "Collecting text-to-speech (from -r requirements.txt (line 5))\n",
      "  Using cached text_to_speech-1.6.1-py3-none-any.whl.metadata (3.0 kB)\n",
      "Requirement already satisfied: langchain_core in /home/ghost/Documents/CODE/.venv/lib64/python3.12/site-packages (from -r requirements.txt (line 6)) (0.2.24)\n",
      "Requirement already satisfied: requests>=2.26.0 in /home/ghost/Documents/CODE/.venv/lib64/python3.12/site-packages (from SpeechRecognition->-r requirements.txt (line 1)) (2.32.3)\n",
      "Requirement already satisfied: typing-extensions in /home/ghost/Documents/CODE/.venv/lib64/python3.12/site-packages (from SpeechRecognition->-r requirements.txt (line 1)) (4.12.2)\n",
      "Collecting gTTS>=2.3.1 (from text-to-speech->-r requirements.txt (line 5))\n",
      "  Using cached gTTS-2.5.2-py3-none-any.whl.metadata (4.1 kB)\n",
      "Requirement already satisfied: PyYAML>=5.3 in /home/ghost/Documents/CODE/.venv/lib64/python3.12/site-packages (from langchain_core->-r requirements.txt (line 6)) (6.0.1)\n",
      "Requirement already satisfied: jsonpatch<2.0,>=1.33 in /home/ghost/Documents/CODE/.venv/lib64/python3.12/site-packages (from langchain_core->-r requirements.txt (line 6)) (1.33)\n",
      "Requirement already satisfied: langsmith<0.2.0,>=0.1.75 in /home/ghost/Documents/CODE/.venv/lib64/python3.12/site-packages (from langchain_core->-r requirements.txt (line 6)) (0.1.93)\n",
      "Requirement already satisfied: packaging<25,>=23.2 in /home/ghost/Documents/CODE/.venv/lib64/python3.12/site-packages (from langchain_core->-r requirements.txt (line 6)) (24.1)\n",
      "Requirement already satisfied: pydantic<3.0.0,>=2.7.4 in /home/ghost/Documents/CODE/.venv/lib64/python3.12/site-packages (from langchain_core->-r requirements.txt (line 6)) (2.8.2)\n",
      "Requirement already satisfied: tenacity!=8.4.0,<9.0.0,>=8.1.0 in /home/ghost/Documents/CODE/.venv/lib64/python3.12/site-packages (from langchain_core->-r requirements.txt (line 6)) (8.5.0)\n",
      "Requirement already satisfied: click<8.2,>=7.1 in /home/ghost/Documents/CODE/.venv/lib64/python3.12/site-packages (from gTTS>=2.3.1->text-to-speech->-r requirements.txt (line 5)) (8.1.7)\n",
      "Requirement already satisfied: jsonpointer>=1.9 in /home/ghost/Documents/CODE/.venv/lib64/python3.12/site-packages (from jsonpatch<2.0,>=1.33->langchain_core->-r requirements.txt (line 6)) (3.0.0)\n",
      "Requirement already satisfied: orjson<4.0.0,>=3.9.14 in /home/ghost/Documents/CODE/.venv/lib64/python3.12/site-packages (from langsmith<0.2.0,>=0.1.75->langchain_core->-r requirements.txt (line 6)) (3.10.6)\n",
      "Requirement already satisfied: annotated-types>=0.4.0 in /home/ghost/Documents/CODE/.venv/lib64/python3.12/site-packages (from pydantic<3.0.0,>=2.7.4->langchain_core->-r requirements.txt (line 6)) (0.7.0)\n",
      "Requirement already satisfied: pydantic-core==2.20.1 in /home/ghost/Documents/CODE/.venv/lib64/python3.12/site-packages (from pydantic<3.0.0,>=2.7.4->langchain_core->-r requirements.txt (line 6)) (2.20.1)\n",
      "Requirement already satisfied: charset-normalizer<4,>=2 in /home/ghost/Documents/CODE/.venv/lib64/python3.12/site-packages (from requests>=2.26.0->SpeechRecognition->-r requirements.txt (line 1)) (3.3.2)\n",
      "Requirement already satisfied: idna<4,>=2.5 in /home/ghost/Documents/CODE/.venv/lib64/python3.12/site-packages (from requests>=2.26.0->SpeechRecognition->-r requirements.txt (line 1)) (3.7)\n",
      "Requirement already satisfied: urllib3<3,>=1.21.1 in /home/ghost/Documents/CODE/.venv/lib64/python3.12/site-packages (from requests>=2.26.0->SpeechRecognition->-r requirements.txt (line 1)) (2.2.2)\n",
      "Requirement already satisfied: certifi>=2017.4.17 in /home/ghost/Documents/CODE/.venv/lib64/python3.12/site-packages (from requests>=2.26.0->SpeechRecognition->-r requirements.txt (line 1)) (2024.7.4)\n",
      "Using cached text_to_speech-1.6.1-py3-none-any.whl (3.7 kB)\n",
      "Using cached gTTS-2.5.2-py3-none-any.whl (29 kB)\n",
      "Installing collected packages: pyaudio, gTTS, text-to-speech\n",
      "Successfully installed gTTS-2.5.2 pyaudio-0.2.14 text-to-speech-1.6.1\n"
     ]
    }
   ],
   "source": [
    "!pip install -r requirements.txt\n",
    "import os\n",
    "from langchain_groq import ChatGroq\n",
    "from langchain_core.prompts import ChatPromptTemplate\n",
    "from langchain.chains import create_retrieval_chain\n",
    "from langchain.schema import HumanMessage"
   ]
  },
  {
   "cell_type": "code",
   "execution_count": 3,
   "metadata": {},
   "outputs": [],
   "source": [
    "from dotenv import load_dotenv\n",
    "load_dotenv()\n",
    "\n",
    "## load the Groq API key\n",
    "groq_api_key=os.environ['GROQ_API_KEY']"
   ]
  },
  {
   "cell_type": "code",
   "execution_count": 4,
   "metadata": {},
   "outputs": [
    {
     "name": "stderr",
     "output_type": "stream",
     "text": [
      "/home/ghost/Documents/CODE/.venv/lib64/python3.12/site-packages/langchain_core/_api/deprecation.py:139: LangChainDeprecationWarning: The method `BaseChatModel.__call__` was deprecated in langchain-core 0.1.7 and will be removed in 0.3.0. Use invoke instead.\n",
      "  warn_deprecated(\n"
     ]
    },
    {
     "data": {
      "text/plain": [
       "AIMessage(content='```python\\nimport webbrowser\\n\\ndef search_dog():\\n    url = \"https://www.google.com/search?q=dog\"\\n    webbrowser.open(url)\\n\\nsearch_dog()\\n```', response_metadata={'token_usage': {'completion_tokens': 38, 'prompt_tokens': 35, 'total_tokens': 73, 'completion_time': 0.152, 'prompt_time': 0.011603795, 'queue_time': None, 'total_time': 0.163603795}, 'model_name': 'Llama-3.1-70b-Versatile', 'system_fingerprint': 'fp_9260b4bb2e', 'finish_reason': 'stop', 'logprobs': None}, id='run-c1efbbe8-59f6-4707-abab-1f774d047c27-0', usage_metadata={'input_tokens': 35, 'output_tokens': 38, 'total_tokens': 73})"
      ]
     },
     "execution_count": 4,
     "metadata": {},
     "output_type": "execute_result"
    }
   ],
   "source": [
    "llm=ChatGroq(model=\"Llama-3.1-70b-Versatile\",temperature=0.0)\n",
    "text=\"search for dog\"\n",
    "prompt=\"Can you provide me the code for the following comand using webbrowser and don't include any other comments:\"\n",
    "prompt=prompt+text\n",
    "answer=llm([HumanMessage(content=prompt)])\n",
    "answer"
   ]
  },
  {
   "cell_type": "code",
   "execution_count": 5,
   "metadata": {},
   "outputs": [
    {
     "name": "stdout",
     "output_type": "stream",
     "text": [
      "import webbrowser\n",
      "\n",
      "def search_dog():\n",
      "    url = \"https://www.google.com/search?q=dog\"\n",
      "    webbrowser.open(url)\n",
      "\n",
      "search_dog()\n"
     ]
    }
   ],
   "source": [
    "updated_answer=answer.content.removeprefix('Here is the code:\\n').removeprefix(\"```\").removesuffix(\"```\").removeprefix(\"python\\n\").removesuffix(\"\\n\")\n",
    "print(updated_answer) # Access the content using the .content attribute"
   ]
  },
  {
   "cell_type": "code",
   "execution_count": 6,
   "metadata": {},
   "outputs": [],
   "source": [
    "def code_run(updated_answer):\n",
    "    exec(updated_answer)"
   ]
  },
  {
   "cell_type": "code",
   "execution_count": 7,
   "metadata": {},
   "outputs": [
    {
     "ename": "NameError",
     "evalue": "name 'webbrowser' is not defined",
     "output_type": "error",
     "traceback": [
      "\u001b[0;31m---------------------------------------------------------------------------\u001b[0m",
      "\u001b[0;31mNameError\u001b[0m                                 Traceback (most recent call last)",
      "Cell \u001b[0;32mIn[7], line 1\u001b[0m\n\u001b[0;32m----> 1\u001b[0m \u001b[43mcode_run\u001b[49m\u001b[43m(\u001b[49m\u001b[43mupdated_answer\u001b[49m\u001b[43m)\u001b[49m\n",
      "Cell \u001b[0;32mIn[6], line 2\u001b[0m, in \u001b[0;36mcode_run\u001b[0;34m(updated_answer)\u001b[0m\n\u001b[1;32m      1\u001b[0m \u001b[38;5;28;01mdef\u001b[39;00m \u001b[38;5;21mcode_run\u001b[39m(updated_answer):\n\u001b[0;32m----> 2\u001b[0m     \u001b[43mexec\u001b[49m\u001b[43m(\u001b[49m\u001b[43mupdated_answer\u001b[49m\u001b[43m)\u001b[49m\n",
      "File \u001b[0;32m<string>:7\u001b[0m\n",
      "File \u001b[0;32m<string>:5\u001b[0m, in \u001b[0;36msearch_dog\u001b[0;34m()\u001b[0m\n",
      "\u001b[0;31mNameError\u001b[0m: name 'webbrowser' is not defined"
     ]
    }
   ],
   "source": [
    "code_run(updated_answer)"
   ]
  }
 ],
 "metadata": {
  "kernelspec": {
   "display_name": ".venv",
   "language": "python",
   "name": "python3"
  },
  "language_info": {
   "codemirror_mode": {
    "name": "ipython",
    "version": 3
   },
   "file_extension": ".py",
   "mimetype": "text/x-python",
   "name": "python",
   "nbconvert_exporter": "python",
   "pygments_lexer": "ipython3",
   "version": "3.12.4"
  }
 },
 "nbformat": 4,
 "nbformat_minor": 2
}
